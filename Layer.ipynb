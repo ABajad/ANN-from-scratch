{
  "nbformat": 4,
  "nbformat_minor": 0,
  "metadata": {
    "colab": {
      "name": "Layer.ipynb",
      "provenance": [],
      "authorship_tag": "ABX9TyOUif89U8vXwfvTZBFzk2XK",
      "include_colab_link": true
    },
    "kernelspec": {
      "name": "python3",
      "display_name": "Python 3"
    }
  },
  "cells": [
    {
      "cell_type": "markdown",
      "metadata": {
        "id": "view-in-github",
        "colab_type": "text"
      },
      "source": [
        "<a href=\"https://colab.research.google.com/github/ABajad/ANN-from-scratch/blob/master/Layer.ipynb\" target=\"_parent\"><img src=\"https://colab.research.google.com/assets/colab-badge.svg\" alt=\"Open In Colab\"/></a>"
      ]
    },
    {
      "cell_type": "markdown",
      "metadata": {
        "id": "pbvRbVqm68F_",
        "colab_type": "text"
      },
      "source": [
        "**Output from a neuron :**\n",
        "> Output from neuron = (input to neuron)X(Weight of neuron) + Bias of neuron\n"
      ]
    },
    {
      "cell_type": "markdown",
      "metadata": {
        "id": "QMdhcAD48yix",
        "colab_type": "text"
      },
      "source": [
        "**Output from all neuron :**\n",
        "\n",
        "\n",
        "> Output from neuron1 = (input to neuron1)X(Weight of neuron1) + Bias of neuron1\n",
        "\n",
        "> Output from neuron2 = (input to neuron2)X(Weight of neuron2) + Bias of neuron2\n",
        "\n",
        "> Output from neuron3 = (input to neuron3)X(Weight of neuron3) + Bias of neuron3\n",
        "\n",
        "\n",
        "\n"
      ]
    },
    {
      "cell_type": "markdown",
      "metadata": {
        "id": "3N_jB9Jo-PcP",
        "colab_type": "text"
      },
      "source": [
        "**Output from Layer:** [Output from neuron1, Output from neuron1, Output from neuron1]\n"
      ]
    },
    {
      "cell_type": "markdown",
      "metadata": {
        "id": "9wDYeN2gCOme",
        "colab_type": "text"
      },
      "source": [
        "# From Scratch\n"
      ]
    },
    {
      "cell_type": "markdown",
      "metadata": {
        "id": "HAuDGxCc6pJ9",
        "colab_type": "text"
      },
      "source": [
        "Input to Layer"
      ]
    },
    {
      "cell_type": "code",
      "metadata": {
        "id": "7CWFtmfC6hy2",
        "colab_type": "code",
        "colab": {}
      },
      "source": [
        "inputs = [1.0, 2.0, 3.0, 2.5]             #Input to neural Network"
      ],
      "execution_count": 0,
      "outputs": []
    },
    {
      "cell_type": "markdown",
      "metadata": {
        "id": "o7o_EsH86BL5",
        "colab_type": "text"
      },
      "source": [
        "Setting Weights and biases of one Layer with 3 neurons"
      ]
    },
    {
      "cell_type": "code",
      "metadata": {
        "id": "MG7-XCtd4SSr",
        "colab_type": "code",
        "colab": {}
      },
      "source": [
        "weights1 = [0.2, 0.8, -0.5, 1.0]          #Weighhts of neuron 1\n",
        "weights2 = [0.5, -0.91, 0.26, -0.5]       #Weights of neuron 2\n",
        "weights3 = [-0.26, -0.27, 0.17, 0.87]     #Weights of neuron 3\n",
        "\n",
        "bias1 = 2.0                               #Bias of neuron 1\n",
        "bias2 = 3.0                               #Bias of neuron 2\n",
        "bias3 = 0.5                               #bias of neuron 3"
      ],
      "execution_count": 0,
      "outputs": []
    },
    {
      "cell_type": "markdown",
      "metadata": {
        "id": "4CVinFxd5Sm5",
        "colab_type": "text"
      },
      "source": [
        "Running Layer"
      ]
    },
    {
      "cell_type": "code",
      "metadata": {
        "id": "BVKaDg0f4fcj",
        "colab_type": "code",
        "colab": {
          "base_uri": "https://localhost:8080/",
          "height": 34
        },
        "outputId": "cb55ffd1-e86f-411a-c879-2a62f407777f"
      },
      "source": [
        "output = [inputs[0]*weights1[0] + inputs[1]*weights1[1] + inputs[2]*weights1[2] + inputs[3]*weights1[3] + bias1,    #Neuron 1\n",
        "          inputs[0]*weights2[0] + inputs[1]*weights2[1] + inputs[2]*weights2[2] + inputs[3]*weights2[3] + bias2,    #Neuron 2\n",
        "          inputs[0]*weights3[0] + inputs[1]*weights3[1] + inputs[2]*weights3[2] + inputs[3]*weights3[3] + bias3]    #Neuron 3\n",
        "print(output)                                                                                                       #Printing output"
      ],
      "execution_count": 9,
      "outputs": [
        {
          "output_type": "stream",
          "text": [
            "[4.8, 1.21, 2.385]\n"
          ],
          "name": "stdout"
        }
      ]
    },
    {
      "cell_type": "markdown",
      "metadata": {
        "id": "HrHfqrmWCR27",
        "colab_type": "text"
      },
      "source": [
        "# Using Numpy Library"
      ]
    },
    {
      "cell_type": "code",
      "metadata": {
        "id": "bBsfyksKAMjz",
        "colab_type": "code",
        "colab": {}
      },
      "source": [
        "import numpy as np                                 #Importing Library"
      ],
      "execution_count": 0,
      "outputs": []
    },
    {
      "cell_type": "code",
      "metadata": {
        "id": "qXxrQsIHANXW",
        "colab_type": "code",
        "colab": {}
      },
      "source": [
        "inputs = [1.0, 2.0, 3.0, 2.5]                      #inputs to nn\n",
        "weights = [[0.2, 0.8, -0.5, 1],                    #Weights of neural-1\n",
        "           [0.5, -0.91, 0.26, -0.5],               #Weights of neural-2\n",
        "           [-0.26, -0.27, 0.17, 0.87]]             #Weights of neural-3\n",
        "biases = [2.0, 3.0, 0.5]                           #[Bias of neural-1, Bias of neural-2, Bias of neural-3]"
      ],
      "execution_count": 0,
      "outputs": []
    },
    {
      "cell_type": "code",
      "metadata": {
        "id": "k5ZouvR2AepQ",
        "colab_type": "code",
        "colab": {
          "base_uri": "https://localhost:8080/",
          "height": 34
        },
        "outputId": "9bd04427-e5b3-4688-c61c-f1d681eefad6"
      },
      "source": [
        "layer_outputs = np.dot(weights, inputs) + biases   #Using Dot Product\n",
        "print(layer_outputs)                               #Printing Output"
      ],
      "execution_count": 23,
      "outputs": [
        {
          "output_type": "stream",
          "text": [
            "[4.8   1.21  2.385]\n"
          ],
          "name": "stdout"
        }
      ]
    },
    {
      "cell_type": "code",
      "metadata": {
        "id": "VAUUHkuIAxJt",
        "colab_type": "code",
        "colab": {}
      },
      "source": [
        ""
      ],
      "execution_count": 0,
      "outputs": []
    }
  ]
}