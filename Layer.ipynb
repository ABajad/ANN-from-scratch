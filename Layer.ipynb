{
  "nbformat": 4,
  "nbformat_minor": 0,
  "metadata": {
    "colab": {
      "name": "Layer.ipynb",
      "provenance": [],
      "collapsed_sections": [],
      "authorship_tag": "ABX9TyMxuq7s3HrPoLT1Hphda+cu",
      "include_colab_link": true
    },
    "kernelspec": {
      "name": "python3",
      "display_name": "Python 3"
    }
  },
  "cells": [
    {
      "cell_type": "markdown",
      "metadata": {
        "id": "view-in-github",
        "colab_type": "text"
      },
      "source": [
        "<a href=\"https://colab.research.google.com/github/ABajad/ANN-from-scratch/blob/master/Layer.ipynb\" target=\"_parent\"><img src=\"https://colab.research.google.com/assets/colab-badge.svg\" alt=\"Open In Colab\"/></a>"
      ]
    },
    {
      "cell_type": "markdown",
      "metadata": {
        "id": "pbvRbVqm68F_",
        "colab_type": "text"
      },
      "source": [
        "**Output from a neuron :**\n",
        "> Output from neuron = (input to neuron)X(Weight of neuron) + Bias of neuron\n"
      ]
    },
    {
      "cell_type": "markdown",
      "metadata": {
        "id": "QMdhcAD48yix",
        "colab_type": "text"
      },
      "source": [
        "**Output from all neuron :**\n",
        "\n",
        "\n",
        "> Output from neuron1 = (input to neuron1)X(Weight of neuron1) + Bias of neuron1\n",
        "\n",
        "> Output from neuron2 = (input to neuron2)X(Weight of neuron2) + Bias of neuron2\n",
        "\n",
        "> Output from neuron3 = (input to neuron3)X(Weight of neuron3) + Bias of neuron3\n",
        "\n",
        "\n",
        "\n"
      ]
    },
    {
      "cell_type": "markdown",
      "metadata": {
        "id": "3N_jB9Jo-PcP",
        "colab_type": "text"
      },
      "source": [
        "**Output from Layer:** [Output from neuron1, Output from neuron1, Output from neuron1]\n"
      ]
    },
    {
      "cell_type": "markdown",
      "metadata": {
        "id": "9wDYeN2gCOme",
        "colab_type": "text"
      },
      "source": [
        "# From Scratch\n"
      ]
    },
    {
      "cell_type": "markdown",
      "metadata": {
        "id": "HAuDGxCc6pJ9",
        "colab_type": "text"
      },
      "source": [
        "Input to Layer"
      ]
    },
    {
      "cell_type": "code",
      "metadata": {
        "id": "7CWFtmfC6hy2",
        "colab_type": "code",
        "colab": {}
      },
      "source": [
        "inputs = [1.0, 2.0, 3.0, 2.5]             #Input to neural Network"
      ],
      "execution_count": 0,
      "outputs": []
    },
    {
      "cell_type": "markdown",
      "metadata": {
        "id": "o7o_EsH86BL5",
        "colab_type": "text"
      },
      "source": [
        "Setting Weights and biases of one Layer with 3 neurons"
      ]
    },
    {
      "cell_type": "code",
      "metadata": {
        "id": "MG7-XCtd4SSr",
        "colab_type": "code",
        "colab": {}
      },
      "source": [
        "weights1 = [0.2, 0.8, -0.5, 1.0]          #Weighhts of neuron 1\n",
        "weights2 = [0.5, -0.91, 0.26, -0.5]       #Weights of neuron 2\n",
        "weights3 = [-0.26, -0.27, 0.17, 0.87]     #Weights of neuron 3\n",
        "\n",
        "bias1 = 2.0                               #Bias of neuron 1\n",
        "bias2 = 3.0                               #Bias of neuron 2\n",
        "bias3 = 0.5                               #bias of neuron 3"
      ],
      "execution_count": 0,
      "outputs": []
    },
    {
      "cell_type": "markdown",
      "metadata": {
        "id": "4CVinFxd5Sm5",
        "colab_type": "text"
      },
      "source": [
        "Running Layer"
      ]
    },
    {
      "cell_type": "code",
      "metadata": {
        "id": "BVKaDg0f4fcj",
        "colab_type": "code",
        "outputId": "e7822c60-d4d5-49a3-b57c-e72271da864f",
        "colab": {
          "base_uri": "https://localhost:8080/",
          "height": 34
        }
      },
      "source": [
        "output = [inputs[0]*weights1[0] + inputs[1]*weights1[1] + inputs[2]*weights1[2] + inputs[3]*weights1[3] + bias1,    #Neuron 1\n",
        "          inputs[0]*weights2[0] + inputs[1]*weights2[1] + inputs[2]*weights2[2] + inputs[3]*weights2[3] + bias2,    #Neuron 2\n",
        "          inputs[0]*weights3[0] + inputs[1]*weights3[1] + inputs[2]*weights3[2] + inputs[3]*weights3[3] + bias3]    #Neuron 3\n",
        "print(output)                                                                                                       #Printing output"
      ],
      "execution_count": 13,
      "outputs": [
        {
          "output_type": "stream",
          "text": [
            "[4.8, 1.21, 2.385]\n"
          ],
          "name": "stdout"
        }
      ]
    },
    {
      "cell_type": "markdown",
      "metadata": {
        "id": "HrHfqrmWCR27",
        "colab_type": "text"
      },
      "source": [
        "# Using Numpy Library"
      ]
    },
    {
      "cell_type": "code",
      "metadata": {
        "id": "bBsfyksKAMjz",
        "colab_type": "code",
        "colab": {}
      },
      "source": [
        "import numpy as np                                             #Importing Library"
      ],
      "execution_count": 0,
      "outputs": []
    },
    {
      "cell_type": "markdown",
      "metadata": {
        "id": "1yVDinHQHJK2",
        "colab_type": "text"
      },
      "source": [
        "TRANSPOSE"
      ]
    },
    {
      "cell_type": "code",
      "metadata": {
        "id": "YBwWuWpnHNbc",
        "colab_type": "code",
        "outputId": "c7c05074-b721-47f3-e14e-8058ef07f5ec",
        "colab": {
          "base_uri": "https://localhost:8080/",
          "height": 176
        }
      },
      "source": [
        "A = [[6,7],\n",
        "     [8,9]]\n",
        "B = [[1,2],\n",
        "     [3,4],\n",
        "     [5,6]]\n",
        "\n",
        "print(np.array(B))                 #This prints Matrix B\n",
        "print(np.array(B).shape)           #This prints the shape of Matrix B, which is (2,3)\n",
        "\n",
        "#Dot product is possible When a=c in shape (axb).(cxd)\n",
        "#Dot Product A.B is not possible since Dimensions are (2x2).(3x2)\n",
        "#To solve this problem we take transpose of B\n",
        "#Now Dot Product is possible since shape is (2x2)(2x3)        \n",
        "\n",
        "print(np.array(B).T)                                            #Transpose of B\n",
        "print(np.array(B).T.shape)                                      #Shape of Transpose of B\n",
        "print(np.dot(A,np.array(B).T))                                  #Dot Product of A and B'"
      ],
      "execution_count": 15,
      "outputs": [
        {
          "output_type": "stream",
          "text": [
            "[[1 2]\n",
            " [3 4]\n",
            " [5 6]]\n",
            "(3, 2)\n",
            "[[1 3 5]\n",
            " [2 4 6]]\n",
            "(2, 3)\n",
            "[[20 46 72]\n",
            " [26 60 94]]\n"
          ],
          "name": "stdout"
        }
      ]
    },
    {
      "cell_type": "code",
      "metadata": {
        "id": "qXxrQsIHANXW",
        "colab_type": "code",
        "colab": {}
      },
      "source": [
        "inputs = [1.0, 2.0, 3.0, 2.5]                                   #inputs to nn\n",
        "weights = [[0.2, 0.8, -0.5, 1],                                 #Weights of neural-1\n",
        "           [0.5, -0.91, 0.26, -0.5],                            #Weights of neural-2\n",
        "           [-0.26, -0.27, 0.17, 0.87]]                          #Weights of neural-3\n",
        "biases = [2.0, 3.0, 0.5]                                        #[Bias of neural-1, Bias of neural-2, Bias of neural-3]"
      ],
      "execution_count": 0,
      "outputs": []
    },
    {
      "cell_type": "code",
      "metadata": {
        "id": "ZkuGnwhLG_T6",
        "colab_type": "code",
        "outputId": "3b480853-ae2f-431a-9f7b-7d66ec6a76d7",
        "colab": {
          "base_uri": "https://localhost:8080/",
          "height": 34
        }
      },
      "source": [
        "layer_outputs = np.dot(inputs, np.array(weights).T) + biases    #Dot Product of inputs and weights'\n",
        "print(layer_outputs)                                            #Printing Output"
      ],
      "execution_count": 17,
      "outputs": [
        {
          "output_type": "stream",
          "text": [
            "[4.8   1.21  2.385]\n"
          ],
          "name": "stdout"
        }
      ]
    },
    {
      "cell_type": "markdown",
      "metadata": {
        "id": "gQQ_wUuGOo5s",
        "colab_type": "text"
      },
      "source": [
        "# Batch Processing From Scratch"
      ]
    },
    {
      "cell_type": "code",
      "metadata": {
        "id": "LV4tzZtaR8L6",
        "colab_type": "code",
        "colab": {}
      },
      "source": [
        "inputs = [[1.0, 2.0, 3.0, 2.5],   \n",
        "         [2.0, 5.0, -1.0, 2.0],                                 #shape of the input batch array is (3, 4)\n",
        "         [-1.5, 2.7, 3.3, -0.8]]"
      ],
      "execution_count": 0,
      "outputs": []
    },
    {
      "cell_type": "code",
      "metadata": {
        "id": "9oOtROdtSpE1",
        "colab_type": "code",
        "colab": {
          "base_uri": "https://localhost:8080/",
          "height": 34
        },
        "outputId": "e1a385a3-c042-43e7-a3ab-9c7fc2a88d83"
      },
      "source": [
        "biases[0]"
      ],
      "execution_count": 29,
      "outputs": [
        {
          "output_type": "execute_result",
          "data": {
            "text/plain": [
              "2.0"
            ]
          },
          "metadata": {
            "tags": []
          },
          "execution_count": 29
        }
      ]
    },
    {
      "cell_type": "code",
      "metadata": {
        "id": "16PZplGeSEL7",
        "colab_type": "code",
        "colab": {}
      },
      "source": [
        "weights = [[0.2, 0.8, -0.5, 1],                                 #Weights of neural-1\n",
        "           [0.5, -0.91, 0.26, -0.5],                            #Weights of neural-2\n",
        "           [-0.26, -0.27, 0.17, 0.87]]                          #Weights of neural-3\n",
        "biases = [2.0, 3.0, 0.5]                                        #[Bias of neural-1, Bias of neural-2, Bias of neural-3]"
      ],
      "execution_count": 0,
      "outputs": []
    },
    {
      "cell_type": "code",
      "metadata": {
        "id": "1rqwC_E0SHNA",
        "colab_type": "code",
        "colab": {
          "base_uri": "https://localhost:8080/",
          "height": 34
        },
        "outputId": "4ddd6604-3b90-4ba7-ce49-2fbb6ec13aad"
      },
      "source": [
        "output = [[inputs[0][0]*weights1[0] + inputs[0][1]*weights1[1] + inputs[0][2]*weights1[2] + inputs[0][3]*weights1[3] + biases[0],    \n",
        "          inputs[0][0]*weights2[0] + inputs[0][1]*weights2[1] + inputs[0][2]*weights2[2] + inputs[0][3]*weights2[3] + biases[1],    \n",
        "          inputs[0][0]*weights3[0] + inputs[0][1]*weights3[1] + inputs[0][2]*weights3[2] + inputs[0][3]*weights3[3] + biases[2]],\n",
        "\n",
        "          [inputs[1][0]*weights1[0] + inputs[1][1]*weights1[1] + inputs[1][2]*weights1[2] + inputs[1][3]*weights1[3] + biases[0],    \n",
        "          inputs[1][0]*weights2[0] + inputs[1][1]*weights2[1] + inputs[1][2]*weights2[2] + inputs[1][3]*weights2[3] + biases[1],    \n",
        "          inputs[1][0]*weights3[0] + inputs[1][1]*weights3[1] + inputs[1][2]*weights3[2] + inputs[1][3]*weights3[3] + biases[2]],\n",
        "          \n",
        "          [inputs[2][0]*weights1[0] + inputs[2][1]*weights1[1] + inputs[2][2]*weights1[2] + inputs[2][3]*weights1[3] + biases[0],    \n",
        "          inputs[2][0]*weights2[0] + inputs[2][1]*weights2[1] + inputs[2][2]*weights2[2] + inputs[2][3]*weights2[3] + biases[1],    \n",
        "          inputs[2][0]*weights3[0] + inputs[2][1]*weights3[1] + inputs[2][2]*weights3[2] + inputs[2][3]*weights3[3] + biases[2]]]    \n",
        "print(output)                                                    #Printing output, long float output is floating point problem"
      ],
      "execution_count": 36,
      "outputs": [
        {
          "output_type": "stream",
          "text": [
            "[[4.8, 1.21, 2.385], [8.9, -1.8099999999999996, 0.19999999999999996], [1.4100000000000001, 1.0509999999999997, 0.025999999999999912]]\n"
          ],
          "name": "stdout"
        }
      ]
    },
    {
      "cell_type": "markdown",
      "metadata": {
        "id": "VAUUHkuIAxJt",
        "colab_type": "text"
      },
      "source": [
        "# Batch processing Using Numpy Library"
      ]
    },
    {
      "cell_type": "markdown",
      "metadata": {
        "id": "h161TUKfMqpG",
        "colab_type": "text"
      },
      "source": [
        "using multiple inputs at once"
      ]
    },
    {
      "cell_type": "code",
      "metadata": {
        "id": "5VJDfqZCFGnl",
        "colab_type": "code",
        "colab": {}
      },
      "source": [
        "inputs = [[1.0, 2.0, 3.0, 2.5],   \n",
        "         [2.0, 5.0, -1.0, 2.0],                                 #shape of the input batch array is (3, 4)\n",
        "         [-1.5, 2.7, 3.3, -0.8]]"
      ],
      "execution_count": 0,
      "outputs": []
    },
    {
      "cell_type": "code",
      "metadata": {
        "id": "pEfNfFEDGk8j",
        "colab_type": "code",
        "colab": {}
      },
      "source": [
        "weights = [[0.2, 0.8, -0.5, 1],                                 #Weights of neural-1\n",
        "           [0.5, -0.91, 0.26, -0.5],                            #Weights of neural-2\n",
        "           [-0.26, -0.27, 0.17, 0.87]]                          #Weights of neural-3\n",
        "biases = [2.0, 3.0, 0.5]                                        #[Bias of neural-1, Bias of neural-2, Bias of neural-3]"
      ],
      "execution_count": 0,
      "outputs": []
    },
    {
      "cell_type": "code",
      "metadata": {
        "id": "_592RpzjMmPl",
        "colab_type": "code",
        "outputId": "be699d2c-47dc-4a49-ee7b-76a3a8e83995",
        "colab": {
          "base_uri": "https://localhost:8080/",
          "height": 70
        }
      },
      "source": [
        "layer_outputs = np.dot(inputs, np.array(weights).T) + biases    #Dot Product of inputs and weights'\n",
        "print(layer_outputs)                                            #Printing Output"
      ],
      "execution_count": 21,
      "outputs": [
        {
          "output_type": "stream",
          "text": [
            "[[ 4.8    1.21   2.385]\n",
            " [ 8.9   -1.81   0.2  ]\n",
            " [ 1.41   1.051  0.026]]\n"
          ],
          "name": "stdout"
        }
      ]
    },
    {
      "cell_type": "code",
      "metadata": {
        "id": "7KGfyDVdR5Ot",
        "colab_type": "code",
        "colab": {}
      },
      "source": [
        ""
      ],
      "execution_count": 0,
      "outputs": []
    }
  ]
}