{
  "nbformat": 4,
  "nbformat_minor": 0,
  "metadata": {
    "colab": {
      "name": "Neuron.ipynb",
      "provenance": [],
      "authorship_tag": "ABX9TyOvIQHWHhw5B0hCASsgwoVD",
      "include_colab_link": true
    },
    "kernelspec": {
      "name": "python3",
      "display_name": "Python 3"
    }
  },
  "cells": [
    {
      "cell_type": "markdown",
      "metadata": {
        "id": "view-in-github",
        "colab_type": "text"
      },
      "source": [
        "<a href=\"https://colab.research.google.com/github/ABajad/ANN-from-scratch/blob/master/Neuron.ipynb\" target=\"_parent\"><img src=\"https://colab.research.google.com/assets/colab-badge.svg\" alt=\"Open In Colab\"/></a>"
      ]
    },
    {
      "cell_type": "markdown",
      "metadata": {
        "id": "BynwY7LEWv4N",
        "colab_type": "text"
      },
      "source": [
        "# Making a single neuron"
      ]
    },
    {
      "cell_type": "markdown",
      "metadata": {
        "id": "QPJdufb1WCtz",
        "colab_type": "text"
      },
      "source": [
        "Output from neuron = (input to neuron)X(Weight of neuron) + Bias of neuron"
      ]
    },
    {
      "cell_type": "code",
      "metadata": {
        "id": "0LqaWyqE2Rpl",
        "colab_type": "code",
        "colab": {}
      },
      "source": [
        "inputs = [1.2, 5.1, 2.1]\n",
        "weights = [3.1, 2.1, 8.7]\n",
        "bias = 3.0"
      ],
      "execution_count": 0,
      "outputs": []
    },
    {
      "cell_type": "markdown",
      "metadata": {
        "id": "9K-Oju-xWHxg",
        "colab_type": "text"
      },
      "source": [
        "Output = 1.2*3.1 + 5.1*2.1 + 2.1*8.7 + 3.0\n",
        "\n",
        "\n",
        "> Output = 35.7\n",
        "\n"
      ]
    },
    {
      "cell_type": "code",
      "metadata": {
        "id": "jPUWQh3t3OXX",
        "colab_type": "code",
        "outputId": "270f2a65-eb87-4a3e-c4aa-c30bbc57a494",
        "colab": {
          "base_uri": "https://localhost:8080/",
          "height": 34
        }
      },
      "source": [
        "output = inputs[0]*weights[0] + inputs[1]*weights[1] + inputs[2]*weights[2] + bias\n",
        "print(output)"
      ],
      "execution_count": 0,
      "outputs": [
        {
          "output_type": "stream",
          "text": [
            "35.7\n"
          ],
          "name": "stdout"
        }
      ]
    }
  ]
}