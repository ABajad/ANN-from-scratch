{
  "nbformat": 4,
  "nbformat_minor": 0,
  "metadata": {
    "colab": {
      "name": "Neuron.ipynb",
      "provenance": [],
      "authorship_tag": "ABX9TyNyzDIpeZajcpdL3NeJTI29",
      "include_colab_link": true
    },
    "kernelspec": {
      "name": "python3",
      "display_name": "Python 3"
    }
  },
  "cells": [
    {
      "cell_type": "markdown",
      "metadata": {
        "id": "view-in-github",
        "colab_type": "text"
      },
      "source": [
        "<a href=\"https://colab.research.google.com/github/ABajad/ANN-from-scratch/blob/master/Neuron.ipynb\" target=\"_parent\"><img src=\"https://colab.research.google.com/assets/colab-badge.svg\" alt=\"Open In Colab\"/></a>"
      ]
    },
    {
      "cell_type": "code",
      "metadata": {
        "id": "0LqaWyqE2Rpl",
        "colab_type": "code",
        "colab": {}
      },
      "source": [
        "inputs = [1.2, 5.1, 2.1]\n",
        "weights = [3.1, 2.1, 8.7]\n",
        "bias = 3.0"
      ],
      "execution_count": 0,
      "outputs": []
    },
    {
      "cell_type": "code",
      "metadata": {
        "id": "jPUWQh3t3OXX",
        "colab_type": "code",
        "colab": {
          "base_uri": "https://localhost:8080/",
          "height": 34
        },
        "outputId": "28098b2a-b6f5-45a3-d4ef-b75c5ba39468"
      },
      "source": [
        "output = inputs[0]*weights[0] + inputs[1]*weights[1] + inputs[2]*weights[2] + bias\n",
        "print(output)"
      ],
      "execution_count": 3,
      "outputs": [
        {
          "output_type": "stream",
          "text": [
            "35.7\n"
          ],
          "name": "stdout"
        }
      ]
    }
  ]
}